{
  "nbformat": 4,
  "nbformat_minor": 0,
  "metadata": {
    "colab": {
      "provenance": [],
      "collapsed_sections": [],
      "authorship_tag": "ABX9TyM3jj4uyEgxN3/TrPwaKco8",
      "include_colab_link": true
    },
    "kernelspec": {
      "name": "python3",
      "display_name": "Python 3"
    },
    "language_info": {
      "name": "python"
    }
  },
  "cells": [
    {
      "cell_type": "markdown",
      "metadata": {
        "id": "view-in-github",
        "colab_type": "text"
      },
      "source": [
        "<a href=\"https://colab.research.google.com/github/arenalmeida/designoptimization/blob/main/hw3_prob1%262.ipynb\" target=\"_parent\"><img src=\"https://colab.research.google.com/assets/colab-badge.svg\" alt=\"Open In Colab\"/></a>"
      ]
    },
    {
      "cell_type": "code",
      "execution_count": 1,
      "metadata": {
        "colab": {
          "base_uri": "https://localhost:8080/"
        },
        "id": "DDqOWDcNR8xf",
        "outputId": "e6e741d4-f543-441e-d365-7b1c15e61eea"
      },
      "outputs": [
        {
          "output_type": "stream",
          "name": "stdout",
          "text": [
            "Estimated A_12 and A_21 are: tensor([1.9584, 1.6892], requires_grad=True)\n",
            "Final loss occured is: 0.67019325\n"
          ]
        }
      ],
      "source": [
        "# HW3 MAE 598 \n",
        "# Aren Almeida 1225408288\n",
        "# problem 1\n",
        "# importing libraries\n",
        "\n",
        "import numpy as np\n",
        "from IPython import *\n",
        "import torch\n",
        "from torch.autograd import *\n",
        "\n",
        "import matplotlib.pyplot as plt\n",
        "\n",
        "# array of x1 which is for water\n",
        "X = np.array([[0.0, 0.1, 0.2, 0.3, 0.4, 0.5, 0.6, 0.7, 0.8, 0.9, 1.0]])\n",
        "x=X\n",
        "\n",
        "# flipping the orientation\n",
        "Y = np.flip(x, axis=1).copy() \n",
        "y=Y\n",
        "# setting a array for water and 1,4 dioxane\n",
        "ai = np.array(([[8.07131, 1730.63, 233.426], [7.43155, 1554.679, 240.337]]))\n",
        "\n",
        "# temperature is 20\n",
        "Temp = 20\n",
        "\n",
        "# pressure for water and dioxane\n",
        "p_w = 10 ** (ai[0, 0] - ai[0, 1] / (Temp + ai[0, 2]))\n",
        "p_di = 10 ** (ai[1, 0] - ai[1, 1] / (Temp + ai[1, 2]))\n",
        "\n",
        "# pressure array\n",
        "Pres = np.array([[28.1, 34.4, 36.7, 36.9, 36.8, 36.7, 36.5, 35.4, 32.9, 27.7, 17.5]])\n",
        "\n",
        "P = torch.tensor(Pres, requires_grad=False, dtype=torch.float32)\n",
        "p_t1=P \n",
        "# pressure converted to tensor\n",
        "A = Variable(torch.tensor([1.0, 1.0]), requires_grad=True)\n",
        "a_t=A\n",
        "# A,x_1,x_2 converted to tensor\n",
        "x_1 = torch.tensor(x, requires_grad=False, dtype=torch.float32)\n",
        "x_t1=x_1\n",
        "x_2 = torch.tensor(y, requires_grad=False, dtype=torch.float32)\n",
        "x_t2=x_2\n",
        "\n",
        "# initial ai\n",
        "\n",
        "ai = 0.001\n",
        "\n",
        "# iterating for predicting pressure\n",
        "for n in range(100):\n",
        "    predic_p = x_t1 * torch.exp(a_t[0] * (a_t[1] * x_t2 / (a_t[0] * x_t1 + a_t[1] * x_t2)) ** 2) * p_w +  x_t2 * torch.exp(a_t[1] * (a_t[0] * x_t1 / (a_t[0] * x_t1 + a_t[1] * x_t2)) ** 2) * p_di\n",
        "# loss calculated\n",
        "    loss = (predic_p - p_t1) ** 2\n",
        "    loss = loss.sum()\n",
        "    loss.backward()\n",
        "    with torch.no_grad():\n",
        "        a_t -= ai * a_t.grad\n",
        "        a_t.grad.zero_()\n",
        "\n",
        "# printing a12 and a21 and final loss occured\n",
        "print('Estimated A_12 and A_21 are:',a_t)\n",
        "print('Final loss occured is:',loss.data.numpy())"
      ]
    },
    {
      "cell_type": "code",
      "source": [
        "# plotting graph of Predicted Pressure and Actual Pressure\n",
        "import matplotlib.pyplot as plt\n",
        "predic_p = predic_p.detach().numpy()[0]\n",
        "p_t1 = p_t1.detach().numpy()[0]\n",
        "x_t1 = x_t1.detach().numpy()[0]\n",
        "\n",
        "plt.plot(x_t1, predic_p, label='Predicted Pressure')\n",
        "plt.plot(x_t1, p_t1, label='Actual Pressure')\n",
        "plt.xlabel('x_t1')\n",
        "plt.ylabel('Pressure')\n",
        "plt.legend()\n",
        "plt.title('Plot of p_pred and p_actual')\n",
        "plt.show()"
      ],
      "metadata": {
        "colab": {
          "base_uri": "https://localhost:8080/",
          "height": 296
        },
        "id": "FpiernvRbp6-",
        "outputId": "f2bd8c79-b52a-4a09-d43e-812790d7c0f5"
      },
      "execution_count": 2,
      "outputs": [
        {
          "output_type": "display_data",
          "data": {
            "text/plain": [
              "<Figure size 432x288 with 1 Axes>"
            ],
            "image/png": "[encoded data removed]"
          },
          "metadata": {
            "needs_background": "light"
          }
        }
      ]
    },
    {
      "cell_type": "code",
      "source": [
        "# Problem 2 \n",
        "# importing libraries\n",
        "\n",
        "import numpy as np\n",
        "from scipy.stats import *\n",
        "from scipy.optimize import minimize\n",
        "import sklearn.gaussian_process as gp\n",
        "\n",
        "# Expected improvement function\n",
        "def imp_exp(x, gaussian_process, evaluated_loss, bool=False, n_hyppar=1):\n",
        "\n",
        "    x_pred = x.reshape(-1, n_hyppar)\n",
        "    mu, sig = gaussian_process.predict(x_pred, return_std=True)\n",
        "\n",
        "    if bool:\n",
        "        opti = np.max(evaluated_loss)\n",
        "    else:\n",
        "        opti = np.min(evaluated_loss)\n",
        "\n",
        "    scaling_factor = (-1) ** (not bool)\n",
        "\n",
        "    # In case sig equals zero\n",
        "    with np.errstate(divide='ignore'):\n",
        "        Z = scaling_factor * (mu - opti) / sig\n",
        "        imp_exp = scaling_factor * (mu - opti) * norm.cdf(Z) + sig * norm.pdf(Z)\n",
        "        imp_exp[sig == 0.0] == 0.0\n",
        "\n",
        "    return -1 * imp_exp\n",
        "\n",
        "#sampling loss function\n",
        "def loss_samp_hype(func_acqui, gaussian_process, evaluated_loss, bool=False,bound=(0, 10), n_restarts=25):\n",
        "    best_x = None\n",
        "    best_acquisition_value = 1\n",
        "    n_hyppar = bound.shape[0]\n",
        "\n",
        "    for starting_point in np.random.uniform(bound[:, 0], bound[:, 1], size=(n_restarts, n_hyppar)):\n",
        "\n",
        "        res = minimize(fun=func_acqui,X0=starting_point.reshape(1, -1),bound=bound,method='L-BFGS-B',args=(gaussian_process, evaluated_loss, bool, n_hyppar))\n",
        "\n",
        "        if res.fun < best_acquisition_value:\n",
        "            best_acquisition_value = res.fun\n",
        "            best_x = res.x\n",
        "\n",
        "    return best_x\n",
        "\n",
        "# using gaussian process to optimize the loss where alpha is variance and epsilon is tolerance\n",
        "def bayesian_optimisation(iterations, loss, bound, X0=None, n_iniloss=5,gp_params=None, random_search=False, alpha=1e-5, epsilon=1e-7):\n",
        "\n",
        "    x_list = []\n",
        "    y_list = []\n",
        "\n",
        "    n_hyppar = bound.shape[0]\n",
        "\n",
        "    if X0 is None:\n",
        "        for params in np.random.uniform(bound[:, 0], bound[:, 1], (n_iniloss, bound.shape[0])):\n",
        "            x_list.append(params)\n",
        "            y_list.append(loss(params))\n",
        "    else:\n",
        "        for params in X0:\n",
        "            x_list.append(params)\n",
        "            y_list.append(loss(params))\n",
        "# array of x and y\n",
        "    arr_x = np.array(x_list)\n",
        "    arr_y = np.array(y_list)\n",
        "\n",
        "    # Create the gaussian process\n",
        "    if gp_params is not None:\n",
        "        model = gp.GaussianProcessRegressor(**gp_params)\n",
        "        \n",
        "    else:\n",
        "        kernel = gp.kernels.Matern()\n",
        "        model = gp.GaussianProcessRegressor(kernel=kernel,alpha=alpha,n_restarts_optimizer=10,normalize_y=True)\n",
        "        \n",
        "# taking iterations\n",
        "    for n in range(iterations):\n",
        "        model.fit(arr_x, arr_y)\n",
        "\n",
        "        # Sample next hyperparameter\n",
        "        if random_search:\n",
        "            x_random = np.random.uniform(bound[:, 0], bound[:, 1], size=(random_search, n_hyppar))\n",
        "            ei = -1 * imp_exp(x_random, model, arr_y, bool=True, n_hyppar=n_hyppar)\n",
        "            next_sample = x_random[np.argmax(ei), :]\n",
        "        else:\n",
        "            next_sample = loss_samp_hype(imp_exp, model, arr_y, bool=True, bound=bound, n_restarts=100)\n",
        "\n",
        "        # Duplicates will break the gaussian process.\n",
        "        if np.any(np.abs(next_sample - arr_x) <= epsilon):\n",
        "            next_sample = np.random.uniform(bound[:, 0], bound[:, 1], bound.shape[0])\n",
        "\n",
        "        # Sample loss for new parameters\n",
        "        cv_score = loss(next_sample)\n",
        "\n",
        "        # Updating x and y lists\n",
        "        x_list.append(next_sample)\n",
        "        y_list.append(cv_score)\n",
        "\n",
        "        # Update array of x and y\n",
        "        arr_x = np.array(x_list)\n",
        "        arr_y = np.array(y_list)\n",
        "\n",
        "    return arr_x, arr_y\n",
        "# objective function\n",
        "def loss(params):\n",
        "\n",
        "    return (4 - 2.1 * params[0] ** 2 + params[0] ** 4 / 3) * params[0] ** 2 + params[0] * params[1] + (-4 + 4 * params[1] ** 2) * params[1] ** 2\n",
        "\n",
        "bound = np.array([[-3, 3], [-2, 2]])\n",
        "\n",
        "arr_x, arr_y = bayesian_optimisation(iterations=30,loss=loss,bound=bound,n_iniloss=20,random_search=1000)\n",
        "# printing the results\n",
        "print('minimized obj func:', np.min(arr_y))\n",
        "print('X1 X2 when obj func is minimized:',arr_x[np.argmin(arr_y)])\n",
        "print('solution for X1 X2:', arr_x)\n",
        "print('obj func:', arr_y)"
      ],
      "metadata": {
        "colab": {
          "base_uri": "https://localhost:8080/"
        },
        "id": "ntE0f2RhS_nX",
        "outputId": "2cfa0a51-088f-4705-8f65-e808f5784f8d"
      },
      "execution_count": 3,
      "outputs": [
        {
          "output_type": "stream",
          "name": "stdout",
          "text": [
            "minimized obj func: -0.7379117233528504\n",
            "X1 X2 when obj func is minimized: [0.13055516 0.57173893]\n",
            "solution for X1 X2: [[-0.43429166  0.6482685 ]\n",
            " [-0.60926463  0.07335662]\n",
            " [-0.94725268 -0.81598978]\n",
            " [ 1.22824701  0.08067967]\n",
            " [ 2.27919395  0.25822815]\n",
            " [-2.34383968 -0.25818648]\n",
            " [ 0.02224428  1.88185098]\n",
            " [-1.5751139   1.94163631]\n",
            " [-0.15246224  0.17943608]\n",
            " [-1.32629202 -0.37243424]\n",
            " [ 1.5349921   0.78842281]\n",
            " [-2.71636183 -0.78424431]\n",
            " [ 2.48796848  0.70672021]\n",
            " [ 1.76659732  0.87722235]\n",
            " [ 0.13055516  0.57173893]\n",
            " [-1.28164002 -1.56976407]\n",
            " [-1.04119807 -1.62621874]\n",
            " [ 1.11731536 -1.81514326]\n",
            " [-1.37149752  1.34074944]\n",
            " [ 1.87395753  0.46945817]\n",
            " [-2.82967024 -0.99509845]\n",
            " [-2.85855749 -1.27435382]\n",
            " [-2.98801754 -1.4292352 ]\n",
            " [-2.9992485  -1.82407576]\n",
            " [-2.96079201 -1.86905903]\n",
            " [ 2.97296136 -1.91475841]\n",
            " [ 2.99593331 -1.3968248 ]\n",
            " [ 2.29967785 -1.98755419]\n",
            " [-2.95431589  1.97990763]\n",
            " [-2.89505295  1.29449412]\n",
            " [-2.68450292  1.98425715]\n",
            " [ 2.76284696  1.87431468]\n",
            " [ 2.09459047  1.99977916]\n",
            " [-2.95232873 -1.72750413]\n",
            " [-2.98475118  1.81239089]\n",
            " [ 2.99302408 -0.73612569]\n",
            " [-2.99484713  1.96743066]\n",
            " [ 2.42729996 -0.96148201]\n",
            " [-2.95932722  0.62168523]\n",
            " [ 2.99137194  1.4637293 ]\n",
            " [-0.00704665 -1.98767859]\n",
            " [ 2.98269914  0.04219465]\n",
            " [ 2.99348878  1.83871001]\n",
            " [ 1.12945394  1.99112195]\n",
            " [-2.93546103  0.15932835]\n",
            " [ 2.97007085 -1.79790316]\n",
            " [ 2.99260172  0.90970806]\n",
            " [ 0.52375568 -1.09423387]\n",
            " [ 2.97253694  1.69076252]\n",
            " [ 2.9665064   1.8947124 ]]\n",
            "obj func: [-5.74129419e-01  1.14639751e+00  2.02215666e+00  2.47275360e+00\n",
            "  1.11765009e+01  1.42182208e+01  3.60433970e+01  4.08002645e+01\n",
            " -6.01513219e-02  2.36866422e+00  2.39594254e+00  5.02725592e+01\n",
            "  2.41131657e+01  3.00234346e+00 -7.37911723e-01  1.88251942e+01\n",
            "  2.13832633e+01  3.05836000e+01  6.20860943e+00  2.77749001e+00\n",
            "  7.12859841e+01  8.20321631e+01  1.18339181e+02  1.45131623e+02\n",
            "  1.38616713e+02  1.34865044e+02  1.10991390e+02  5.37737462e+01\n",
            "  1.36501879e+02  8.30424911e+01  8.54527852e+01  9.69222791e+01\n",
            "  5.74410941e+01  1.24841273e+02  1.29259756e+02  1.03742526e+02\n",
            "  1.46005103e+02  1.62304860e+01  9.50719394e+01  1.20648270e+02\n",
            "  4.66481147e+01  1.04206822e+02  1.44769962e+02  5.16390259e+01\n",
            "  9.12462768e+01  1.24210092e+02  1.08972524e+02  1.31819735e+00\n",
            "  1.27621525e+02  1.42551933e+02]\n"
          ]
        }
      ]
    },
    {
      "cell_type": "code",
      "source": [
        "# plotting function\n",
        "import matplotlib.pyplot as plt\n",
        "X1 = np.linspace(-3, 3, 20)\n",
        "X2 = np.linspace(-2, 2, 20)\n",
        "\n",
        "param_grid = np.array([[x1, x2] for x2 in X2 for x1 in X1])\n",
        "real_loss = [loss(params) for params in param_grid]\n",
        "\n",
        "C, G = np.meshgrid(X1, X2)\n",
        "result = np.array(real_loss).reshape(C.shape)\n",
        "plt.figure()\n",
        "im = plt.contourf(C, G, np.array(real_loss).reshape(C.shape), cmap='winter')\n",
        "plt.colorbar(im)\n",
        "plt.scatter(arr_x[np.argmin(arr_y)][0], arr_x[np.argmin(arr_y)][1], marker='+', c='white', s=150)\n",
        "plt.title('Contour plot of obj func f=x1,x2')\n",
        "plt.xlabel('X1')\n",
        "plt.ylabel('X2')\n",
        "plt.show()"
      ],
      "metadata": {
        "colab": {
          "base_uri": "https://localhost:8080/",
          "height": 295
        },
        "id": "5IARcTCuTSX_",
        "outputId": "cc981ce7-6bd0-49cd-b5c0-6f8cabfc9bbe"
      },
      "execution_count": 4,
      "outputs": [
        {
          "output_type": "display_data",
          "data": {
            "text/plain": [
              "<Figure size 432x288 with 2 Axes>"
            ],
            "image/png": "[encoded data removed]"
          },
          "metadata": {
            "needs_background": "light"
          }
        }
      ]
    }
  ]
}