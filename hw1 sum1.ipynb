{
 "cells": [
  {
   "cell_type": "code",
   "execution_count": null,
   "id": "1f114107",
   "metadata": {},
   "outputs": [],
   "source": [
    "import numpy as np"
   ]
  },
  {
   "cell_type": "code",
   "execution_count": 98,
   "id": "fc0be80f",
   "metadata": {},
   "outputs": [],
   "source": [
    "from scipy.optimize import minimize"
   ]
  },
  {
   "cell_type": "code",
   "execution_count": 99,
   "id": "004f0cc4",
   "metadata": {},
   "outputs": [],
   "source": [
    "def objective(x):\n",
    "   x1 = x[0]\n",
    "   x2 = x[1]\n",
    "   x3 = x[2]\n",
    "   x4 = x[3]\n",
    "   x5 = x[4]\n",
    "   return (x[0]-x[1])**2+(x[1]+x[2]-2)**2+(x[3]-1)**2+(x[4]-1)**2"
   ]
  },
  {
   "cell_type": "code",
   "execution_count": 100,
   "id": "e4f145cc",
   "metadata": {},
   "outputs": [],
   "source": [
    "def constr_1(x):\n",
    "    return x[0]+3*x[1]\n",
    "def constr_2(x):\n",
    "    return x[2]+x[3]-2*x[4]\n",
    "def constr_3(x):\n",
    "    return x[1]-x[4]"
   ]
  },
  {
   "cell_type": "code",
   "execution_count": 101,
   "id": "65f480d0",
   "metadata": {},
   "outputs": [],
   "source": [
    "iniguess = 5\n",
    "x0 = np.zeros(iniguess)\n",
    "x0[0] = 1.0\n",
    "x0[1] = 5.0\n",
    "x0[2] = 3.0\n",
    "x0[3] = 4.0\n",
    "x0[4] = 1.0\n"
   ]
  },
  {
   "cell_type": "code",
   "execution_count": 102,
   "id": "261d8381",
   "metadata": {},
   "outputs": [
    {
     "name": "stdout",
     "output_type": "stream",
     "text": [
      "Initial Objective: 61.0\n"
     ]
    }
   ],
   "source": [
    "print('Initial Objective: ' + str(objective(x0)))"
   ]
  },
  {
   "cell_type": "code",
   "execution_count": 103,
   "id": "1fab3ed8",
   "metadata": {},
   "outputs": [],
   "source": [
    "b = (-10.0,10.0)\n",
    "bnds = (b,b,b,b,b)\n",
    "cons1 ={'type': 'eq', 'fun': constr_1}\n",
    "cons2 ={'type': 'eq', 'fun': constr_2}\n",
    "cons3 ={'type': 'eq', 'fun': constr_3}\n",
    "constr = ([con1,con2,con3])"
   ]
  },
  {
   "cell_type": "code",
   "execution_count": 104,
   "id": "cf2abbc5",
   "metadata": {
    "scrolled": true
   },
   "outputs": [],
   "source": [
    "solution = minimize(objective,x0,method='SLSQP',\\\n",
    "                    bounds=bnds,constraints=constr)\n",
    "x = solution.x"
   ]
  },
  {
   "cell_type": "code",
   "execution_count": 105,
   "id": "5a6a837c",
   "metadata": {},
   "outputs": [
    {
     "name": "stdout",
     "output_type": "stream",
     "text": [
      "Final Objective: 4.093023260339089\n"
     ]
    }
   ],
   "source": [
    "print('Final Objective: ' + str(objective(x)))"
   ]
  },
  {
   "cell_type": "code",
   "execution_count": 106,
   "id": "b1e0bde8",
   "metadata": {},
   "outputs": [
    {
     "name": "stdout",
     "output_type": "stream",
     "text": [
      "Solution\n",
      "x1 = -0.7674023798617929\n",
      "x2 = 0.2558007932872643\n",
      "x3 = 0.6278803775095451\n",
      "x4 = -0.11627879093501652\n",
      "x5 = 0.2558007932872643\n"
     ]
    }
   ],
   "source": [
    "print('Solution')\n",
    "print('x1 = ' + str(x[0]))\n",
    "print('x2 = ' + str(x[1]))\n",
    "print('x3 = ' + str(x[2]))\n",
    "print('x4 = ' + str(x[3]))\n",
    "print('x5 = ' + str(x[4]))"
   ]
  },
  {
   "cell_type": "code",
   "execution_count": null,
   "id": "2e2c42bf",
   "metadata": {},
   "outputs": [],
   "source": []
  }
 ],
 "metadata": {
  "kernelspec": {
   "display_name": "Python 3 (ipykernel)",
   "language": "python",
   "name": "python3"
  },
  "language_info": {
   "codemirror_mode": {
    "name": "ipython",
    "version": 3
   },
   "file_extension": ".py",
   "mimetype": "text/x-python",
   "name": "python",
   "nbconvert_exporter": "python",
   "pygments_lexer": "ipython3",
   "version": "3.9.12"
  }
 },
 "nbformat": 4,
 "nbformat_minor": 5
}
